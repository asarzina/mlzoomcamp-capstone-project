{
  "nbformat": 4,
  "nbformat_minor": 0,
  "metadata": {
    "colab": {
      "name": "Capstone project - Traffic Sign Classification.ipynb",
      "provenance": [],
      "collapsed_sections": []
    },
    "kernelspec": {
      "name": "python3",
      "display_name": "Python 3"
    },
    "language_info": {
      "name": "python"
    }
  },
  "cells": [
    {
      "cell_type": "markdown",
      "source": [
        "# Traffic Sign Classification"
      ],
      "metadata": {
        "id": "y0MQblEBLLJ1"
      }
    },
    {
      "cell_type": "markdown",
      "source": [
        "## Dataset\n",
        "\n",
        "The dataset we’ll be using to train our own custom traffic sign classifier is the German Traffic Sign Benchmark https://www.kaggle.com/valentynsichkar/traffic-signs-preprocessed.\n",
        "\n",
        "## Goal\n",
        "\n",
        "Classify images of traffic signs.\n",
        "\n",
        "## About the dataset\n",
        "\n",
        "The dataset contains preprocessed data for Traffic Signs saved into some pickle files.\n",
        "\n",
        "The images are in the following files:\n",
        "\n",
        "- train.p\n",
        "- valid.p\n",
        "- test.p\n",
        "\n",
        "There are about 34799 images. There are also a csv file with the list of sign categories (labels.csv).\n",
        "\n",
        "## Data Preparation\n",
        "\n",
        "I've converted the database into images and save them into some directories with the names from labels.csv.\n",
        "\n",
        "## Model\n",
        "\n",
        "I created a model using Keras libraries, layers and optimizers. I tried some parameters to find the best model.\n",
        "\n",
        "## Export model\n",
        "\n",
        "The final model is exported to h5 file and used in dockerized python script."
      ],
      "metadata": {
        "id": "OxnFmo38LQPc"
      }
    },
    {
      "cell_type": "code",
      "source": [
        "!python3 --version"
      ],
      "metadata": {
        "colab": {
          "base_uri": "https://localhost:8080/"
        },
        "id": "ns846jAcymFe",
        "outputId": "312fc23a-2564-4969-be4a-2fb41ab515b6"
      },
      "execution_count": 201,
      "outputs": [
        {
          "output_type": "stream",
          "name": "stdout",
          "text": [
            "Python 3.7.12\n"
          ]
        }
      ]
    },
    {
      "cell_type": "code",
      "source": [
        "import os\n",
        "import zipfile\n",
        "\n",
        "import tensorflow as tf\n",
        "from tensorflow.keras.optimizers import RMSprop\n",
        "from tensorflow.keras.preprocessing.image import ImageDataGenerator\n",
        "from tensorflow.keras.preprocessing.image import load_img\n",
        "from tensorflow.keras.preprocessing.image import save_img\n",
        "from tensorflow.keras import layers\n",
        "from tensorflow.keras import models\n",
        "from tensorflow.keras import optimizers\n",
        "from keras.preprocessing.image import img_to_array\n",
        "from keras.layers import Dense, Dropout, Flatten, Conv2D, MaxPool2D, MaxPooling2D, AvgPool2D, BatchNormalization, Reshape\n",
        "\n",
        "from sklearn.model_selection import train_test_split\n",
        "import tqdm\n",
        "import shutil\n",
        "import pickle\n",
        "\n",
        "import numpy as np\n",
        "import pandas as pd\n",
        "from pathlib import Path\n",
        "from os import path\n",
        "from PIL import Image\n",
        "\n",
        "import matplotlib.pyplot as plt\n",
        "\n",
        "%matplotlib inline"
      ],
      "metadata": {
        "id": "Rj7nVkFAe8vD"
      },
      "execution_count": 202,
      "outputs": []
    },
    {
      "cell_type": "markdown",
      "source": [
        "Download the dataset from source"
      ],
      "metadata": {
        "id": "gFW2rHu7nj_y"
      }
    },
    {
      "cell_type": "code",
      "source": [
        "# Load dataset\n",
        "!wget https://d17h27t6h515a5.cloudfront.net/topher/2017/February/5898cd6f_traffic-signs-data/traffic-signs-data.zip\n",
        "\n",
        "# Load labels\n",
        "!wget https://raw.githubusercontent.com/asarzina/mlzoomcamp-capstone-project/master/labels.csv"
      ],
      "metadata": {
        "colab": {
          "base_uri": "https://localhost:8080/"
        },
        "id": "jrfLFIcMfv0q",
        "outputId": "b4017705-63c6-46aa-a6e9-9ccd13d3b0e3"
      },
      "execution_count": 203,
      "outputs": [
        {
          "output_type": "stream",
          "name": "stdout",
          "text": [
            "--2021-12-14 09:08:31--  https://d17h27t6h515a5.cloudfront.net/topher/2017/February/5898cd6f_traffic-signs-data/traffic-signs-data.zip\n",
            "Resolving d17h27t6h515a5.cloudfront.net (d17h27t6h515a5.cloudfront.net)... 65.8.27.131, 65.8.27.57, 65.8.27.175, ...\n",
            "Connecting to d17h27t6h515a5.cloudfront.net (d17h27t6h515a5.cloudfront.net)|65.8.27.131|:443... connected.\n",
            "HTTP request sent, awaiting response... 200 OK\n",
            "Length: 123524425 (118M) [application/zip]\n",
            "Saving to: ‘traffic-signs-data.zip.1’\n",
            "\n",
            "traffic-signs-data. 100%[===================>] 117.80M  49.7MB/s    in 2.4s    \n",
            "\n",
            "2021-12-14 09:08:34 (49.7 MB/s) - ‘traffic-signs-data.zip.1’ saved [123524425/123524425]\n",
            "\n",
            "--2021-12-14 09:08:34--  https://raw.githubusercontent.com/asarzina/mlzoomcamp-capstone-project/master/labels.csv\n",
            "Resolving raw.githubusercontent.com (raw.githubusercontent.com)... 185.199.111.133, 185.199.110.133, 185.199.108.133, ...\n",
            "Connecting to raw.githubusercontent.com (raw.githubusercontent.com)|185.199.111.133|:443... connected.\n",
            "HTTP request sent, awaiting response... 200 OK\n",
            "Length: 998 [text/plain]\n",
            "Saving to: ‘labels.csv.1’\n",
            "\n",
            "labels.csv.1        100%[===================>]     998  --.-KB/s    in 0s      \n",
            "\n",
            "2021-12-14 09:08:34 (30.7 MB/s) - ‘labels.csv.1’ saved [998/998]\n",
            "\n"
          ]
        }
      ]
    },
    {
      "cell_type": "code",
      "source": [
        "!ls -l"
      ],
      "metadata": {
        "colab": {
          "base_uri": "https://localhost:8080/"
        },
        "id": "XL0hVcXyiX1w",
        "outputId": "193bac02-ba64-44fe-9411-e50b60fccb6f"
      },
      "execution_count": 204,
      "outputs": [
        {
          "output_type": "stream",
          "name": "stdout",
          "text": [
            "total 241280\n",
            "-rw-r--r-- 1 root root       998 Dec 14 07:20 labels.csv\n",
            "-rw-r--r-- 1 root root       998 Dec 14 09:08 labels.csv.1\n",
            "drwxr-xr-x 1 root root      4096 Dec  3 14:33 sample_data\n",
            "-rw-r--r-- 1 root root 123524425 Feb  6  2017 traffic-signs-data.zip\n",
            "-rw-r--r-- 1 root root 123524425 Feb  6  2017 traffic-signs-data.zip.1\n"
          ]
        }
      ]
    },
    {
      "cell_type": "markdown",
      "source": [
        "## Data preparation"
      ],
      "metadata": {
        "id": "QQaQ0cE5o5Ps"
      }
    },
    {
      "cell_type": "markdown",
      "source": [
        "Extract the dataset"
      ],
      "metadata": {
        "id": "vL6I992CnnTB"
      }
    },
    {
      "cell_type": "code",
      "source": [
        "BASE_PATH = '../tmp/traffic-signs/'"
      ],
      "metadata": {
        "id": "iMMH6FtFktj-"
      },
      "execution_count": 205,
      "outputs": []
    },
    {
      "cell_type": "code",
      "source": [
        "zip_ref = zipfile.ZipFile(\"./traffic-signs-data.zip\", 'r')\n",
        "zip_ref.extractall(BASE_PATH)\n",
        "zip_ref.close()"
      ],
      "metadata": {
        "id": "uk1kJxMgin-M"
      },
      "execution_count": 206,
      "outputs": []
    },
    {
      "cell_type": "code",
      "source": [
        "os.listdir(BASE_PATH)"
      ],
      "metadata": {
        "colab": {
          "base_uri": "https://localhost:8080/"
        },
        "id": "DI0fEJwspsMd",
        "outputId": "45d59518-c823-431c-d73c-ce79d533d470"
      },
      "execution_count": 207,
      "outputs": [
        {
          "output_type": "execute_result",
          "data": {
            "text/plain": [
              "['test',\n",
              " 'validation',\n",
              " 'valid.p',\n",
              " 'train.p',\n",
              " 'train',\n",
              " 'valid',\n",
              " 'test.p',\n",
              " 'labels.csv']"
            ]
          },
          "metadata": {},
          "execution_count": 207
        }
      ]
    },
    {
      "cell_type": "code",
      "source": [
        "shutil.copyfile('./labels.csv', BASE_PATH + 'labels.csv')"
      ],
      "metadata": {
        "colab": {
          "base_uri": "https://localhost:8080/",
          "height": 35
        },
        "id": "3rueRI0EpZGF",
        "outputId": "4f4cd1c0-068a-4577-c7d1-288db48db32e"
      },
      "execution_count": 208,
      "outputs": [
        {
          "output_type": "execute_result",
          "data": {
            "application/vnd.google.colaboratory.intrinsic+json": {
              "type": "string"
            },
            "text/plain": [
              "'../tmp/traffic-signs/labels.csv'"
            ]
          },
          "metadata": {},
          "execution_count": 208
        }
      ]
    },
    {
      "cell_type": "code",
      "source": [
        "labels_df = pd.read_csv(BASE_PATH + 'labels.csv')\n",
        "labels_df"
      ],
      "metadata": {
        "colab": {
          "base_uri": "https://localhost:8080/",
          "height": 1000
        },
        "id": "6hmv-ifLpj2s",
        "outputId": "b9fd7ea4-cb30-4a88-cce4-a64465b3d940"
      },
      "execution_count": 209,
      "outputs": [
        {
          "output_type": "execute_result",
          "data": {
            "text/html": [
              "<div>\n",
              "<style scoped>\n",
              "    .dataframe tbody tr th:only-of-type {\n",
              "        vertical-align: middle;\n",
              "    }\n",
              "\n",
              "    .dataframe tbody tr th {\n",
              "        vertical-align: top;\n",
              "    }\n",
              "\n",
              "    .dataframe thead th {\n",
              "        text-align: right;\n",
              "    }\n",
              "</style>\n",
              "<table border=\"1\" class=\"dataframe\">\n",
              "  <thead>\n",
              "    <tr style=\"text-align: right;\">\n",
              "      <th></th>\n",
              "      <th>ClassId</th>\n",
              "      <th>SignName</th>\n",
              "    </tr>\n",
              "  </thead>\n",
              "  <tbody>\n",
              "    <tr>\n",
              "      <th>0</th>\n",
              "      <td>0</td>\n",
              "      <td>Speed limit (20km/h)</td>\n",
              "    </tr>\n",
              "    <tr>\n",
              "      <th>1</th>\n",
              "      <td>1</td>\n",
              "      <td>Speed limit (30km/h)</td>\n",
              "    </tr>\n",
              "    <tr>\n",
              "      <th>2</th>\n",
              "      <td>2</td>\n",
              "      <td>Speed limit (50km/h)</td>\n",
              "    </tr>\n",
              "    <tr>\n",
              "      <th>3</th>\n",
              "      <td>3</td>\n",
              "      <td>Speed limit (60km/h)</td>\n",
              "    </tr>\n",
              "    <tr>\n",
              "      <th>4</th>\n",
              "      <td>4</td>\n",
              "      <td>Speed limit (70km/h)</td>\n",
              "    </tr>\n",
              "    <tr>\n",
              "      <th>5</th>\n",
              "      <td>5</td>\n",
              "      <td>Speed limit (80km/h)</td>\n",
              "    </tr>\n",
              "    <tr>\n",
              "      <th>6</th>\n",
              "      <td>6</td>\n",
              "      <td>End of speed limit (80km/h)</td>\n",
              "    </tr>\n",
              "    <tr>\n",
              "      <th>7</th>\n",
              "      <td>7</td>\n",
              "      <td>Speed limit (100km/h)</td>\n",
              "    </tr>\n",
              "    <tr>\n",
              "      <th>8</th>\n",
              "      <td>8</td>\n",
              "      <td>Speed limit (120km/h)</td>\n",
              "    </tr>\n",
              "    <tr>\n",
              "      <th>9</th>\n",
              "      <td>9</td>\n",
              "      <td>No passing</td>\n",
              "    </tr>\n",
              "    <tr>\n",
              "      <th>10</th>\n",
              "      <td>10</td>\n",
              "      <td>No passing for vehicles over 3.5 metric tons</td>\n",
              "    </tr>\n",
              "    <tr>\n",
              "      <th>11</th>\n",
              "      <td>11</td>\n",
              "      <td>Right-of-way at the next intersection</td>\n",
              "    </tr>\n",
              "    <tr>\n",
              "      <th>12</th>\n",
              "      <td>12</td>\n",
              "      <td>Priority road</td>\n",
              "    </tr>\n",
              "    <tr>\n",
              "      <th>13</th>\n",
              "      <td>13</td>\n",
              "      <td>Yield</td>\n",
              "    </tr>\n",
              "    <tr>\n",
              "      <th>14</th>\n",
              "      <td>14</td>\n",
              "      <td>Stop</td>\n",
              "    </tr>\n",
              "    <tr>\n",
              "      <th>15</th>\n",
              "      <td>15</td>\n",
              "      <td>No vehicles</td>\n",
              "    </tr>\n",
              "    <tr>\n",
              "      <th>16</th>\n",
              "      <td>16</td>\n",
              "      <td>Vehicles over 3.5 metric tons prohibited</td>\n",
              "    </tr>\n",
              "    <tr>\n",
              "      <th>17</th>\n",
              "      <td>17</td>\n",
              "      <td>No entry</td>\n",
              "    </tr>\n",
              "    <tr>\n",
              "      <th>18</th>\n",
              "      <td>18</td>\n",
              "      <td>General caution</td>\n",
              "    </tr>\n",
              "    <tr>\n",
              "      <th>19</th>\n",
              "      <td>19</td>\n",
              "      <td>Dangerous curve to the left</td>\n",
              "    </tr>\n",
              "    <tr>\n",
              "      <th>20</th>\n",
              "      <td>20</td>\n",
              "      <td>Dangerous curve to the right</td>\n",
              "    </tr>\n",
              "    <tr>\n",
              "      <th>21</th>\n",
              "      <td>21</td>\n",
              "      <td>Double curve</td>\n",
              "    </tr>\n",
              "    <tr>\n",
              "      <th>22</th>\n",
              "      <td>22</td>\n",
              "      <td>Bumpy road</td>\n",
              "    </tr>\n",
              "    <tr>\n",
              "      <th>23</th>\n",
              "      <td>23</td>\n",
              "      <td>Slippery road</td>\n",
              "    </tr>\n",
              "    <tr>\n",
              "      <th>24</th>\n",
              "      <td>24</td>\n",
              "      <td>Road narrows on the right</td>\n",
              "    </tr>\n",
              "    <tr>\n",
              "      <th>25</th>\n",
              "      <td>25</td>\n",
              "      <td>Road work</td>\n",
              "    </tr>\n",
              "    <tr>\n",
              "      <th>26</th>\n",
              "      <td>26</td>\n",
              "      <td>Traffic signals</td>\n",
              "    </tr>\n",
              "    <tr>\n",
              "      <th>27</th>\n",
              "      <td>27</td>\n",
              "      <td>Pedestrians</td>\n",
              "    </tr>\n",
              "    <tr>\n",
              "      <th>28</th>\n",
              "      <td>28</td>\n",
              "      <td>Children crossing</td>\n",
              "    </tr>\n",
              "    <tr>\n",
              "      <th>29</th>\n",
              "      <td>29</td>\n",
              "      <td>Bicycles crossing</td>\n",
              "    </tr>\n",
              "    <tr>\n",
              "      <th>30</th>\n",
              "      <td>30</td>\n",
              "      <td>Beware of ice/snow</td>\n",
              "    </tr>\n",
              "    <tr>\n",
              "      <th>31</th>\n",
              "      <td>31</td>\n",
              "      <td>Wild animals crossing</td>\n",
              "    </tr>\n",
              "    <tr>\n",
              "      <th>32</th>\n",
              "      <td>32</td>\n",
              "      <td>End of all speed and passing limits</td>\n",
              "    </tr>\n",
              "    <tr>\n",
              "      <th>33</th>\n",
              "      <td>33</td>\n",
              "      <td>Turn right ahead</td>\n",
              "    </tr>\n",
              "    <tr>\n",
              "      <th>34</th>\n",
              "      <td>34</td>\n",
              "      <td>Turn left ahead</td>\n",
              "    </tr>\n",
              "    <tr>\n",
              "      <th>35</th>\n",
              "      <td>35</td>\n",
              "      <td>Ahead only</td>\n",
              "    </tr>\n",
              "    <tr>\n",
              "      <th>36</th>\n",
              "      <td>36</td>\n",
              "      <td>Go straight or right</td>\n",
              "    </tr>\n",
              "    <tr>\n",
              "      <th>37</th>\n",
              "      <td>37</td>\n",
              "      <td>Go straight or left</td>\n",
              "    </tr>\n",
              "    <tr>\n",
              "      <th>38</th>\n",
              "      <td>38</td>\n",
              "      <td>Keep right</td>\n",
              "    </tr>\n",
              "    <tr>\n",
              "      <th>39</th>\n",
              "      <td>39</td>\n",
              "      <td>Keep left</td>\n",
              "    </tr>\n",
              "    <tr>\n",
              "      <th>40</th>\n",
              "      <td>40</td>\n",
              "      <td>Roundabout mandatory</td>\n",
              "    </tr>\n",
              "    <tr>\n",
              "      <th>41</th>\n",
              "      <td>41</td>\n",
              "      <td>End of no passing</td>\n",
              "    </tr>\n",
              "    <tr>\n",
              "      <th>42</th>\n",
              "      <td>42</td>\n",
              "      <td>End of no passing by vehicles over 3.5 metric ...</td>\n",
              "    </tr>\n",
              "  </tbody>\n",
              "</table>\n",
              "</div>"
            ],
            "text/plain": [
              "    ClassId                                           SignName\n",
              "0         0                               Speed limit (20km/h)\n",
              "1         1                               Speed limit (30km/h)\n",
              "2         2                               Speed limit (50km/h)\n",
              "3         3                               Speed limit (60km/h)\n",
              "4         4                               Speed limit (70km/h)\n",
              "5         5                               Speed limit (80km/h)\n",
              "6         6                        End of speed limit (80km/h)\n",
              "7         7                              Speed limit (100km/h)\n",
              "8         8                              Speed limit (120km/h)\n",
              "9         9                                         No passing\n",
              "10       10       No passing for vehicles over 3.5 metric tons\n",
              "11       11              Right-of-way at the next intersection\n",
              "12       12                                      Priority road\n",
              "13       13                                              Yield\n",
              "14       14                                               Stop\n",
              "15       15                                        No vehicles\n",
              "16       16           Vehicles over 3.5 metric tons prohibited\n",
              "17       17                                           No entry\n",
              "18       18                                    General caution\n",
              "19       19                        Dangerous curve to the left\n",
              "20       20                       Dangerous curve to the right\n",
              "21       21                                       Double curve\n",
              "22       22                                         Bumpy road\n",
              "23       23                                      Slippery road\n",
              "24       24                          Road narrows on the right\n",
              "25       25                                          Road work\n",
              "26       26                                    Traffic signals\n",
              "27       27                                        Pedestrians\n",
              "28       28                                  Children crossing\n",
              "29       29                                  Bicycles crossing\n",
              "30       30                                 Beware of ice/snow\n",
              "31       31                              Wild animals crossing\n",
              "32       32                End of all speed and passing limits\n",
              "33       33                                   Turn right ahead\n",
              "34       34                                    Turn left ahead\n",
              "35       35                                         Ahead only\n",
              "36       36                               Go straight or right\n",
              "37       37                                Go straight or left\n",
              "38       38                                         Keep right\n",
              "39       39                                          Keep left\n",
              "40       40                               Roundabout mandatory\n",
              "41       41                                  End of no passing\n",
              "42       42  End of no passing by vehicles over 3.5 metric ..."
            ]
          },
          "metadata": {},
          "execution_count": 209
        }
      ]
    },
    {
      "cell_type": "code",
      "source": [
        "# Get index only of object types\n",
        "strings = list(labels_df.dtypes[labels_df.dtypes == 'object'].index)\n",
        "strings"
      ],
      "metadata": {
        "colab": {
          "base_uri": "https://localhost:8080/"
        },
        "id": "KGgpzTK97dCw",
        "outputId": "baf1dcae-c35c-410c-f679-f3842a1d3c83"
      },
      "execution_count": 210,
      "outputs": [
        {
          "output_type": "execute_result",
          "data": {
            "text/plain": [
              "['SignName']"
            ]
          },
          "metadata": {},
          "execution_count": 210
        }
      ]
    },
    {
      "cell_type": "code",
      "source": [
        "# values to lowercase\n",
        "for col in strings:\n",
        "  text = labels_df[col].str.lower()\n",
        "  text = text.str.replace(' ', '_')\n",
        "  text = text.str.replace('(', '')\n",
        "  text = text.str.replace(')', '')\n",
        "  text = text.str.replace('/', '')\n",
        "  labels_df[col] = text\n",
        "\n",
        "labels_df.head()"
      ],
      "metadata": {
        "colab": {
          "base_uri": "https://localhost:8080/",
          "height": 206
        },
        "id": "NTJnOXkd7Hd4",
        "outputId": "25d32581-4321-43c9-843e-677adeff3bb4"
      },
      "execution_count": 211,
      "outputs": [
        {
          "output_type": "execute_result",
          "data": {
            "text/html": [
              "<div>\n",
              "<style scoped>\n",
              "    .dataframe tbody tr th:only-of-type {\n",
              "        vertical-align: middle;\n",
              "    }\n",
              "\n",
              "    .dataframe tbody tr th {\n",
              "        vertical-align: top;\n",
              "    }\n",
              "\n",
              "    .dataframe thead th {\n",
              "        text-align: right;\n",
              "    }\n",
              "</style>\n",
              "<table border=\"1\" class=\"dataframe\">\n",
              "  <thead>\n",
              "    <tr style=\"text-align: right;\">\n",
              "      <th></th>\n",
              "      <th>ClassId</th>\n",
              "      <th>SignName</th>\n",
              "    </tr>\n",
              "  </thead>\n",
              "  <tbody>\n",
              "    <tr>\n",
              "      <th>0</th>\n",
              "      <td>0</td>\n",
              "      <td>speed_limit_20kmh</td>\n",
              "    </tr>\n",
              "    <tr>\n",
              "      <th>1</th>\n",
              "      <td>1</td>\n",
              "      <td>speed_limit_30kmh</td>\n",
              "    </tr>\n",
              "    <tr>\n",
              "      <th>2</th>\n",
              "      <td>2</td>\n",
              "      <td>speed_limit_50kmh</td>\n",
              "    </tr>\n",
              "    <tr>\n",
              "      <th>3</th>\n",
              "      <td>3</td>\n",
              "      <td>speed_limit_60kmh</td>\n",
              "    </tr>\n",
              "    <tr>\n",
              "      <th>4</th>\n",
              "      <td>4</td>\n",
              "      <td>speed_limit_70kmh</td>\n",
              "    </tr>\n",
              "  </tbody>\n",
              "</table>\n",
              "</div>"
            ],
            "text/plain": [
              "   ClassId           SignName\n",
              "0        0  speed_limit_20kmh\n",
              "1        1  speed_limit_30kmh\n",
              "2        2  speed_limit_50kmh\n",
              "3        3  speed_limit_60kmh\n",
              "4        4  speed_limit_70kmh"
            ]
          },
          "metadata": {},
          "execution_count": 211
        }
      ]
    },
    {
      "cell_type": "code",
      "source": [
        "training_file =  BASE_PATH + \"train.p\"\n",
        "validation_file= BASE_PATH + \"valid.p\"\n",
        "testing_file =   BASE_PATH + \"test.p\""
      ],
      "metadata": {
        "id": "8NxH39nLtnxa"
      },
      "execution_count": 212,
      "outputs": []
    },
    {
      "cell_type": "code",
      "source": [
        "with open(training_file, mode='rb') as f:\n",
        "    train = pickle.load(f)\n",
        "with open(validation_file, mode='rb') as f:\n",
        "    valid = pickle.load(f)\n",
        "with open(testing_file, mode='rb') as f:\n",
        "    test = pickle.load(f)"
      ],
      "metadata": {
        "id": "OH_M4LL5qzOp"
      },
      "execution_count": 213,
      "outputs": []
    },
    {
      "cell_type": "code",
      "source": [
        "train.keys(), valid.keys(), test.keys()"
      ],
      "metadata": {
        "colab": {
          "base_uri": "https://localhost:8080/"
        },
        "id": "xsgSpLA9q72B",
        "outputId": "329f4da5-7713-4de7-975e-c36d439978aa"
      },
      "execution_count": 214,
      "outputs": [
        {
          "output_type": "execute_result",
          "data": {
            "text/plain": [
              "(dict_keys(['coords', 'labels', 'features', 'sizes']),\n",
              " dict_keys(['coords', 'labels', 'features', 'sizes']),\n",
              " dict_keys(['sizes', 'coords', 'features', 'labels']))"
            ]
          },
          "metadata": {},
          "execution_count": 214
        }
      ]
    },
    {
      "cell_type": "code",
      "source": [
        "len(train['coords']), len(train['labels']), len(train['features']), len(train['sizes'])"
      ],
      "metadata": {
        "colab": {
          "base_uri": "https://localhost:8080/"
        },
        "id": "7erx_N8FuD3P",
        "outputId": "230dfcd1-4fb9-4eec-c0bd-99ae4f7cc9ac"
      },
      "execution_count": 215,
      "outputs": [
        {
          "output_type": "execute_result",
          "data": {
            "text/plain": [
              "(34799, 34799, 34799, 34799)"
            ]
          },
          "metadata": {},
          "execution_count": 215
        }
      ]
    },
    {
      "cell_type": "code",
      "source": [
        "train['features'][:1]"
      ],
      "metadata": {
        "colab": {
          "base_uri": "https://localhost:8080/"
        },
        "id": "vc-aTf--uhF-",
        "outputId": "45497dcc-d88b-4f3a-b3d6-938ab0367bf8"
      },
      "execution_count": 216,
      "outputs": [
        {
          "output_type": "execute_result",
          "data": {
            "text/plain": [
              "array([[[[28, 25, 24],\n",
              "         [27, 24, 23],\n",
              "         [27, 24, 22],\n",
              "         ...,\n",
              "         [32, 28, 24],\n",
              "         [31, 27, 25],\n",
              "         [31, 27, 26]],\n",
              "\n",
              "        [[29, 26, 25],\n",
              "         [27, 25, 23],\n",
              "         [27, 25, 23],\n",
              "         ...,\n",
              "         [32, 28, 24],\n",
              "         [31, 27, 24],\n",
              "         [30, 27, 25]],\n",
              "\n",
              "        [[28, 26, 26],\n",
              "         [27, 25, 23],\n",
              "         [26, 25, 23],\n",
              "         ...,\n",
              "         [32, 28, 24],\n",
              "         [31, 27, 24],\n",
              "         [30, 27, 25]],\n",
              "\n",
              "        ...,\n",
              "\n",
              "        [[27, 24, 23],\n",
              "         [28, 25, 24],\n",
              "         [30, 25, 24],\n",
              "         ...,\n",
              "         [27, 24, 23],\n",
              "         [28, 24, 22],\n",
              "         [29, 25, 22]],\n",
              "\n",
              "        [[28, 23, 23],\n",
              "         [29, 24, 24],\n",
              "         [31, 25, 24],\n",
              "         ...,\n",
              "         [27, 24, 23],\n",
              "         [28, 24, 22],\n",
              "         [28, 24, 21]],\n",
              "\n",
              "        [[29, 23, 23],\n",
              "         [30, 24, 24],\n",
              "         [32, 24, 23],\n",
              "         ...,\n",
              "         [27, 24, 22],\n",
              "         [27, 23, 21],\n",
              "         [26, 22, 20]]]], dtype=uint8)"
            ]
          },
          "metadata": {},
          "execution_count": 216
        }
      ]
    },
    {
      "cell_type": "code",
      "source": [
        "train['labels'][:1]"
      ],
      "metadata": {
        "colab": {
          "base_uri": "https://localhost:8080/"
        },
        "id": "i120A0-UvoDt",
        "outputId": "3cfaf3d5-803f-408c-c0b3-a1501f24c988"
      },
      "execution_count": 217,
      "outputs": [
        {
          "output_type": "execute_result",
          "data": {
            "text/plain": [
              "array([41], dtype=uint8)"
            ]
          },
          "metadata": {},
          "execution_count": 217
        }
      ]
    },
    {
      "cell_type": "code",
      "source": [
        "train['sizes'][:1]"
      ],
      "metadata": {
        "colab": {
          "base_uri": "https://localhost:8080/"
        },
        "id": "VuF-fshcv7W4",
        "outputId": "ac19a012-e9ac-458a-cb79-43290fbb0db8"
      },
      "execution_count": 218,
      "outputs": [
        {
          "output_type": "execute_result",
          "data": {
            "text/plain": [
              "array([[26, 25]], dtype=uint8)"
            ]
          },
          "metadata": {},
          "execution_count": 218
        }
      ]
    },
    {
      "cell_type": "code",
      "source": [
        "labels = pd.DataFrame(train['labels'])\n",
        "labels.value_counts()"
      ],
      "metadata": {
        "colab": {
          "base_uri": "https://localhost:8080/"
        },
        "id": "dQSKeutA2fZq",
        "outputId": "5e1dc152-bddf-46f6-a221-e3257c815fdf"
      },
      "execution_count": 219,
      "outputs": [
        {
          "output_type": "execute_result",
          "data": {
            "text/plain": [
              "2     2010\n",
              "1     1980\n",
              "13    1920\n",
              "12    1890\n",
              "38    1860\n",
              "10    1800\n",
              "4     1770\n",
              "5     1650\n",
              "25    1350\n",
              "9     1320\n",
              "7     1290\n",
              "8     1260\n",
              "3     1260\n",
              "11    1170\n",
              "35    1080\n",
              "18    1080\n",
              "17     990\n",
              "31     690\n",
              "14     690\n",
              "33     599\n",
              "15     540\n",
              "26     540\n",
              "28     480\n",
              "23     450\n",
              "30     390\n",
              "34     360\n",
              "16     360\n",
              "6      360\n",
              "22     330\n",
              "36     330\n",
              "20     300\n",
              "40     300\n",
              "21     270\n",
              "39     270\n",
              "29     240\n",
              "24     240\n",
              "42     210\n",
              "41     210\n",
              "27     210\n",
              "32     210\n",
              "19     180\n",
              "37     180\n",
              "0      180\n",
              "dtype: int64"
            ]
          },
          "metadata": {},
          "execution_count": 219
        }
      ]
    },
    {
      "cell_type": "code",
      "source": [
        "labels.value_counts().plot(kind='bar')\n",
        "plt.show()  # density=False would make counts"
      ],
      "metadata": {
        "colab": {
          "base_uri": "https://localhost:8080/",
          "height": 293
        },
        "id": "ZUJXoQHD26sb",
        "outputId": "95848d0a-71e6-4e4c-825e-7962c7147cb5"
      },
      "execution_count": 220,
      "outputs": [
        {
          "output_type": "display_data",
          "data": {
            "image/png": "[encoded data removed]",
            "text/plain": [
              "<Figure size 432x288 with 1 Axes>"
            ]
          },
          "metadata": {
            "needs_background": "light"
          }
        }
      ]
    },
    {
      "cell_type": "markdown",
      "source": [
        "### Create folders for train, validation and test"
      ],
      "metadata": {
        "id": "I8v-EcUur23D"
      }
    },
    {
      "cell_type": "code",
      "source": [
        "os.makedirs(BASE_PATH + 'train', exist_ok=True)\n",
        "os.makedirs(BASE_PATH + 'validation', exist_ok=True)\n",
        "os.makedirs(BASE_PATH + 'test', exist_ok=True)"
      ],
      "metadata": {
        "id": "DyLPu8eErr3x"
      },
      "execution_count": 221,
      "outputs": []
    },
    {
      "cell_type": "markdown",
      "source": [
        "### Move images to folders"
      ],
      "metadata": {
        "id": "CwhIJwDDutFn"
      }
    },
    {
      "cell_type": "code",
      "source": [
        "def save_img_from_array(array, name):\n",
        "  img = Image.fromarray(array)\n",
        "  img.save(name)"
      ],
      "metadata": {
        "id": "SxOeXw0AqzDO"
      },
      "execution_count": 222,
      "outputs": []
    },
    {
      "cell_type": "code",
      "source": [
        "def get_category_from_label(label):\n",
        "  obj = labels_df[labels_df.ClassId == label]['SignName']\n",
        "  return obj.values[0]"
      ],
      "metadata": {
        "id": "Cog-mWIn3H51"
      },
      "execution_count": 223,
      "outputs": []
    },
    {
      "cell_type": "code",
      "source": [
        "def save_images(data, type):\n",
        "  saved_images = 0\n",
        "\n",
        "  for index, [f,l] in enumerate(zip(data['features'], data['labels'])):\n",
        "    category = get_category_from_label(l)\n",
        "\n",
        "    path = f'{BASE_PATH}{type}/{category}'\n",
        "    os.makedirs(path, exist_ok=True)\n",
        "\n",
        "    fullpath = f'{path}/img_{index}.png'\n",
        "    save_img_from_array(f, fullpath)\n",
        "    saved_images += 1\n",
        "\n",
        "  print(f'Images saved for {type}:', saved_images)"
      ],
      "metadata": {
        "id": "GTO_U1w3-CQV"
      },
      "execution_count": 224,
      "outputs": []
    },
    {
      "cell_type": "code",
      "source": [
        "save_images(train, 'train')\n",
        "save_images(valid, 'valid')\n",
        "save_images(test, 'test')"
      ],
      "metadata": {
        "colab": {
          "base_uri": "https://localhost:8080/"
        },
        "id": "foMCuOLzvPPY",
        "outputId": "46bbb00d-7a93-4c29-8855-c1dce3e7b9e2"
      },
      "execution_count": 225,
      "outputs": [
        {
          "output_type": "stream",
          "name": "stdout",
          "text": [
            "Images saved for train: 34799\n",
            "Images saved for valid: 4410\n",
            "Images saved for test: 12630\n"
          ]
        }
      ]
    },
    {
      "cell_type": "code",
      "source": [
        "categories = sorted(labels_df['SignName'].tolist())\n",
        "categories"
      ],
      "metadata": {
        "colab": {
          "base_uri": "https://localhost:8080/"
        },
        "id": "CXLMwe96JD1H",
        "outputId": "bca0f6a7-84d8-4ef2-e423-a81e3f51b800"
      },
      "execution_count": 256,
      "outputs": [
        {
          "output_type": "execute_result",
          "data": {
            "text/plain": [
              "['ahead_only',\n",
              " 'beware_of_icesnow',\n",
              " 'bicycles_crossing',\n",
              " 'bumpy_road',\n",
              " 'children_crossing',\n",
              " 'dangerous_curve_to_the_left',\n",
              " 'dangerous_curve_to_the_right',\n",
              " 'double_curve',\n",
              " 'end_of_all_speed_and_passing_limits',\n",
              " 'end_of_no_passing',\n",
              " 'end_of_no_passing_by_vehicles_over_3.5_metric_tons',\n",
              " 'end_of_speed_limit_80kmh',\n",
              " 'general_caution',\n",
              " 'go_straight_or_left',\n",
              " 'go_straight_or_right',\n",
              " 'keep_left',\n",
              " 'keep_right',\n",
              " 'no_entry',\n",
              " 'no_passing',\n",
              " 'no_passing_for_vehicles_over_3.5_metric_tons',\n",
              " 'no_vehicles',\n",
              " 'pedestrians',\n",
              " 'priority_road',\n",
              " 'right-of-way_at_the_next_intersection',\n",
              " 'road_narrows_on_the_right',\n",
              " 'road_work',\n",
              " 'roundabout_mandatory',\n",
              " 'slippery_road',\n",
              " 'speed_limit_100kmh',\n",
              " 'speed_limit_120kmh',\n",
              " 'speed_limit_20kmh',\n",
              " 'speed_limit_30kmh',\n",
              " 'speed_limit_50kmh',\n",
              " 'speed_limit_60kmh',\n",
              " 'speed_limit_70kmh',\n",
              " 'speed_limit_80kmh',\n",
              " 'stop',\n",
              " 'traffic_signals',\n",
              " 'turn_left_ahead',\n",
              " 'turn_right_ahead',\n",
              " 'vehicles_over_3.5_metric_tons_prohibited',\n",
              " 'wild_animals_crossing',\n",
              " 'yield']"
            ]
          },
          "metadata": {},
          "execution_count": 256
        }
      ]
    },
    {
      "cell_type": "code",
      "source": [
        "os.listdir(BASE_PATH + 'train/stop')[:3]"
      ],
      "metadata": {
        "colab": {
          "base_uri": "https://localhost:8080/"
        },
        "id": "rI0FCAG1Fmv0",
        "outputId": "4a6982ef-3fec-4910-c286-14588f8a9d0e"
      },
      "execution_count": 227,
      "outputs": [
        {
          "output_type": "execute_result",
          "data": {
            "text/plain": [
              "['img_29603.png', 'img_29835.png', 'img_29548.png']"
            ]
          },
          "metadata": {},
          "execution_count": 227
        }
      ]
    },
    {
      "cell_type": "code",
      "source": [
        "example_images = os.listdir(BASE_PATH + 'train/stop')\n",
        "img = load_img(BASE_PATH + 'train/stop/' + example_images[0], target_size=(50, 50))\n",
        "img"
      ],
      "metadata": {
        "colab": {
          "base_uri": "https://localhost:8080/",
          "height": 67
        },
        "id": "HWv33Khx_HJi",
        "outputId": "d4b7b339-6374-4caa-8f1b-f4c798440677"
      },
      "execution_count": 228,
      "outputs": [
        {
          "output_type": "execute_result",
          "data": {
            "image/png": "[encoded data removed]",
            "text/plain": [
              "<PIL.Image.Image image mode=RGB size=50x50 at 0x7F4C1802FA90>"
            ]
          },
          "metadata": {},
          "execution_count": 228
        }
      ]
    },
    {
      "cell_type": "code",
      "source": [
        "x = np.array(img)\n",
        "x.shape"
      ],
      "metadata": {
        "colab": {
          "base_uri": "https://localhost:8080/"
        },
        "id": "b-J-OtqR_vn0",
        "outputId": "6f015057-4888-495d-c5db-c133939611cd"
      },
      "execution_count": 229,
      "outputs": [
        {
          "output_type": "execute_result",
          "data": {
            "text/plain": [
              "(50, 50, 3)"
            ]
          },
          "metadata": {},
          "execution_count": 229
        }
      ]
    },
    {
      "cell_type": "markdown",
      "source": [
        "## Model"
      ],
      "metadata": {
        "id": "TIHx0ffzE4r1"
      }
    },
    {
      "cell_type": "code",
      "source": [
        "from tensorflow.keras.preprocessing.image import ImageDataGenerator\n",
        "from tensorflow import keras"
      ],
      "metadata": {
        "id": "mN0iOwEuFTSw"
      },
      "execution_count": 230,
      "outputs": []
    },
    {
      "cell_type": "code",
      "source": [
        "train_dir = os.path.join(BASE_PATH, 'train')\n",
        "valid_dir = os.path.join(BASE_PATH, 'valid')\n",
        "test_dir = os.path.join(BASE_PATH, 'test')"
      ],
      "metadata": {
        "id": "SwrIlK769w4s"
      },
      "execution_count": 231,
      "outputs": []
    },
    {
      "cell_type": "code",
      "source": [
        "train_gen = ImageDataGenerator(rescale=1./255)\n",
        "\n",
        "train_ds = train_gen.flow_from_directory(\n",
        "    train_dir,\n",
        "    target_size=(32, 32),\n",
        "    class_mode=\"categorical\",\n",
        "    batch_size=32\n",
        ")"
      ],
      "metadata": {
        "colab": {
          "base_uri": "https://localhost:8080/"
        },
        "id": "MfznbvccFIR6",
        "outputId": "ec938c36-bb94-4805-d770-42d2eaa31082"
      },
      "execution_count": 232,
      "outputs": [
        {
          "output_type": "stream",
          "name": "stdout",
          "text": [
            "Found 34799 images belonging to 43 classes.\n"
          ]
        }
      ]
    },
    {
      "cell_type": "code",
      "source": [
        "val_gen = ImageDataGenerator(rescale=1./255)\n",
        "\n",
        "val_ds = val_gen.flow_from_directory(\n",
        "    valid_dir,\n",
        "    target_size=(32, 32),\n",
        "    class_mode=\"categorical\",\n",
        "    batch_size=32,\n",
        "    shuffle=False\n",
        ")"
      ],
      "metadata": {
        "colab": {
          "base_uri": "https://localhost:8080/"
        },
        "id": "3VLmmXd-FgcJ",
        "outputId": "5ba6220c-6e61-4621-9e50-a11f03725006"
      },
      "execution_count": 233,
      "outputs": [
        {
          "output_type": "stream",
          "name": "stdout",
          "text": [
            "Found 4410 images belonging to 43 classes.\n"
          ]
        }
      ]
    },
    {
      "cell_type": "code",
      "source": [
        "num_indeces = len(train_ds.class_indices)\n",
        "num_indeces"
      ],
      "metadata": {
        "colab": {
          "base_uri": "https://localhost:8080/"
        },
        "id": "QpXQk-rFFXD3",
        "outputId": "8cf03f91-78e0-4981-9ebf-242400c116f6"
      },
      "execution_count": 234,
      "outputs": [
        {
          "output_type": "execute_result",
          "data": {
            "text/plain": [
              "43"
            ]
          },
          "metadata": {},
          "execution_count": 234
        }
      ]
    },
    {
      "cell_type": "code",
      "source": [
        "X, y = next(train_ds)"
      ],
      "metadata": {
        "id": "DCjooVFJFafv"
      },
      "execution_count": 235,
      "outputs": []
    },
    {
      "cell_type": "code",
      "source": [
        "y[:5]"
      ],
      "metadata": {
        "colab": {
          "base_uri": "https://localhost:8080/"
        },
        "id": "6np-WAyxFb_e",
        "outputId": "c25e859a-2023-4d5c-8062-3682e2dbdcc8"
      },
      "execution_count": 236,
      "outputs": [
        {
          "output_type": "execute_result",
          "data": {
            "text/plain": [
              "array([[1., 0., 0., 0., 0., 0., 0., 0., 0., 0., 0., 0., 0., 0., 0., 0.,\n",
              "        0., 0., 0., 0., 0., 0., 0., 0., 0., 0., 0., 0., 0., 0., 0., 0.,\n",
              "        0., 0., 0., 0., 0., 0., 0., 0., 0., 0., 0.],\n",
              "       [0., 0., 0., 0., 0., 0., 0., 0., 0., 0., 0., 0., 0., 0., 0., 0.,\n",
              "        0., 0., 0., 0., 0., 0., 0., 0., 0., 0., 0., 0., 0., 0., 0., 0.,\n",
              "        0., 0., 0., 0., 0., 0., 1., 0., 0., 0., 0.],\n",
              "       [0., 0., 0., 0., 0., 0., 0., 0., 0., 0., 0., 0., 0., 0., 0., 0.,\n",
              "        0., 0., 0., 0., 0., 0., 0., 0., 0., 0., 0., 0., 0., 0., 0., 0.,\n",
              "        0., 0., 1., 0., 0., 0., 0., 0., 0., 0., 0.],\n",
              "       [0., 0., 0., 0., 0., 0., 0., 0., 0., 0., 0., 0., 0., 0., 0., 0.,\n",
              "        0., 0., 0., 0., 0., 0., 0., 0., 0., 0., 0., 0., 0., 0., 0., 0.,\n",
              "        0., 0., 0., 0., 0., 0., 0., 0., 0., 0., 1.],\n",
              "       [0., 0., 0., 0., 0., 0., 0., 0., 0., 0., 0., 0., 0., 0., 0., 0.,\n",
              "        0., 0., 0., 1., 0., 0., 0., 0., 0., 0., 0., 0., 0., 0., 0., 0.,\n",
              "        0., 0., 0., 0., 0., 0., 0., 0., 0., 0., 0.]], dtype=float32)"
            ]
          },
          "metadata": {},
          "execution_count": 236
        }
      ]
    },
    {
      "cell_type": "markdown",
      "source": [
        "### Define model"
      ],
      "metadata": {
        "id": "sVH07ntAMzY0"
      }
    },
    {
      "cell_type": "code",
      "source": [
        "def make_model(learning_rate=0.01):\n",
        "  model = models.Sequential()\n",
        "  model.add(Conv2D(32, (3, 3), activation='relu', input_shape=(32, 32, 3)))\n",
        "  model.add(MaxPooling2D((2, 2)))\n",
        "  model.add(Flatten())\n",
        "  model.add(Dense(128, activation='relu'))\n",
        "  model.add(Dense(num_indeces, activation='softmax'))\n",
        "  \n",
        "  #########################################\n",
        "\n",
        "  optimizer = keras.optimizers.Adam(learning_rate=learning_rate)\n",
        "  loss_function = keras.losses.CategoricalCrossentropy(from_logits=False)\n",
        "\n",
        "  model.compile(\n",
        "    optimizer=optimizer,\n",
        "    loss=loss_function,\n",
        "    metrics=['accuracy']\n",
        "  )\n",
        "  \n",
        "  return model"
      ],
      "metadata": {
        "id": "9RgiQX1lH8mk"
      },
      "execution_count": 237,
      "outputs": []
    },
    {
      "cell_type": "markdown",
      "source": [
        "### Try params variations"
      ],
      "metadata": {
        "id": "wXg2HTQiMtmm"
      }
    },
    {
      "cell_type": "code",
      "source": [
        "learning_rates = [0.1, 0.01, 0.001]\n",
        "scores = {}"
      ],
      "metadata": {
        "id": "EatnwLWVIGPa"
      },
      "execution_count": 238,
      "outputs": []
    },
    {
      "cell_type": "code",
      "source": [
        "for index, lr in enumerate(learning_rates):\n",
        "  print('Learning rate:', lr)\n",
        "\n",
        "  model = make_model(lr)\n",
        "  history = model.fit(train_ds, epochs=10, validation_data=val_ds)\n",
        "  scores[index] = history.history\n",
        "\n",
        "  model.summary()\n",
        "\n",
        "  print()\n",
        "  print()"
      ],
      "metadata": {
        "colab": {
          "base_uri": "https://localhost:8080/"
        },
        "id": "a1FQdCiKIH30",
        "outputId": "f4d12414-b316-4491-9dad-efe67e09e8f1"
      },
      "execution_count": 239,
      "outputs": [
        {
          "output_type": "stream",
          "name": "stdout",
          "text": [
            "Learning rate: 0.1\n",
            "Epoch 1/10\n",
            "1088/1088 [==============================] - 40s 36ms/step - loss: 4.4032 - accuracy: 0.0540 - val_loss: 3.5835 - val_accuracy: 0.0476\n",
            "Epoch 2/10\n",
            "1088/1088 [==============================] - 39s 36ms/step - loss: 3.5040 - accuracy: 0.0524 - val_loss: 3.5694 - val_accuracy: 0.0476\n",
            "Epoch 3/10\n",
            "1088/1088 [==============================] - 39s 36ms/step - loss: 3.5021 - accuracy: 0.0580 - val_loss: 3.5671 - val_accuracy: 0.0544\n",
            "Epoch 4/10\n",
            "1088/1088 [==============================] - 39s 36ms/step - loss: 3.5041 - accuracy: 0.0542 - val_loss: 3.5783 - val_accuracy: 0.0476\n",
            "Epoch 5/10\n",
            "1088/1088 [==============================] - 39s 36ms/step - loss: 3.5034 - accuracy: 0.0542 - val_loss: 3.5784 - val_accuracy: 0.0476\n",
            "Epoch 6/10\n",
            "1088/1088 [==============================] - 39s 35ms/step - loss: 3.5021 - accuracy: 0.0549 - val_loss: 3.5940 - val_accuracy: 0.0544\n",
            "Epoch 7/10\n",
            "1088/1088 [==============================] - 39s 36ms/step - loss: 3.5040 - accuracy: 0.0540 - val_loss: 3.5710 - val_accuracy: 0.0544\n",
            "Epoch 8/10\n",
            "1088/1088 [==============================] - 39s 35ms/step - loss: 3.5044 - accuracy: 0.0528 - val_loss: 3.5698 - val_accuracy: 0.0544\n",
            "Epoch 9/10\n",
            "1088/1088 [==============================] - 39s 36ms/step - loss: 3.5031 - accuracy: 0.0533 - val_loss: 3.5650 - val_accuracy: 0.0544\n",
            "Epoch 10/10\n",
            "1088/1088 [==============================] - 39s 35ms/step - loss: 3.5043 - accuracy: 0.0519 - val_loss: 3.5825 - val_accuracy: 0.0476\n",
            "Model: \"sequential_7\"\n",
            "_________________________________________________________________\n",
            " Layer (type)                Output Shape              Param #   \n",
            "=================================================================\n",
            " conv2d_7 (Conv2D)           (None, 30, 30, 32)        896       \n",
            "                                                                 \n",
            " max_pooling2d_6 (MaxPooling  (None, 15, 15, 32)       0         \n",
            " 2D)                                                             \n",
            "                                                                 \n",
            " flatten_6 (Flatten)         (None, 7200)              0         \n",
            "                                                                 \n",
            " dense_12 (Dense)            (None, 128)               921728    \n",
            "                                                                 \n",
            " dense_13 (Dense)            (None, 43)                5547      \n",
            "                                                                 \n",
            "=================================================================\n",
            "Total params: 928,171\n",
            "Trainable params: 928,171\n",
            "Non-trainable params: 0\n",
            "_________________________________________________________________\n",
            "\n",
            "\n",
            "Learning rate: 0.01\n",
            "Epoch 1/10\n",
            "1088/1088 [==============================] - 40s 36ms/step - loss: 1.2013 - accuracy: 0.6579 - val_loss: 1.1111 - val_accuracy: 0.7306\n",
            "Epoch 2/10\n",
            "1088/1088 [==============================] - 39s 36ms/step - loss: 0.4847 - accuracy: 0.8609 - val_loss: 1.0587 - val_accuracy: 0.7683\n",
            "Epoch 3/10\n",
            "1088/1088 [==============================] - 39s 36ms/step - loss: 0.3686 - accuracy: 0.8924 - val_loss: 1.1997 - val_accuracy: 0.7599\n",
            "Epoch 4/10\n",
            "1088/1088 [==============================] - 39s 36ms/step - loss: 0.3208 - accuracy: 0.9086 - val_loss: 1.1450 - val_accuracy: 0.7946\n",
            "Epoch 5/10\n",
            "1088/1088 [==============================] - 39s 36ms/step - loss: 0.2803 - accuracy: 0.9193 - val_loss: 1.7471 - val_accuracy: 0.7517\n",
            "Epoch 6/10\n",
            "1088/1088 [==============================] - 39s 36ms/step - loss: 0.2613 - accuracy: 0.9256 - val_loss: 1.2329 - val_accuracy: 0.8070\n",
            "Epoch 7/10\n",
            "1088/1088 [==============================] - 39s 36ms/step - loss: 0.2437 - accuracy: 0.9312 - val_loss: 1.4336 - val_accuracy: 0.7966\n",
            "Epoch 8/10\n",
            "1088/1088 [==============================] - 39s 36ms/step - loss: 0.2274 - accuracy: 0.9368 - val_loss: 1.4243 - val_accuracy: 0.8218\n",
            "Epoch 9/10\n",
            "1088/1088 [==============================] - 39s 36ms/step - loss: 0.2344 - accuracy: 0.9354 - val_loss: 1.4612 - val_accuracy: 0.8054\n",
            "Epoch 10/10\n",
            "1088/1088 [==============================] - 39s 36ms/step - loss: 0.2042 - accuracy: 0.9425 - val_loss: 2.1648 - val_accuracy: 0.7592\n",
            "Model: \"sequential_8\"\n",
            "_________________________________________________________________\n",
            " Layer (type)                Output Shape              Param #   \n",
            "=================================================================\n",
            " conv2d_8 (Conv2D)           (None, 30, 30, 32)        896       \n",
            "                                                                 \n",
            " max_pooling2d_7 (MaxPooling  (None, 15, 15, 32)       0         \n",
            " 2D)                                                             \n",
            "                                                                 \n",
            " flatten_7 (Flatten)         (None, 7200)              0         \n",
            "                                                                 \n",
            " dense_14 (Dense)            (None, 128)               921728    \n",
            "                                                                 \n",
            " dense_15 (Dense)            (None, 43)                5547      \n",
            "                                                                 \n",
            "=================================================================\n",
            "Total params: 928,171\n",
            "Trainable params: 928,171\n",
            "Non-trainable params: 0\n",
            "_________________________________________________________________\n",
            "\n",
            "\n",
            "Learning rate: 0.001\n",
            "Epoch 1/10\n",
            "1088/1088 [==============================] - 42s 38ms/step - loss: 0.8735 - accuracy: 0.7775 - val_loss: 0.6053 - val_accuracy: 0.8336\n",
            "Epoch 2/10\n",
            "1088/1088 [==============================] - 41s 38ms/step - loss: 0.1772 - accuracy: 0.9567 - val_loss: 0.4648 - val_accuracy: 0.8834\n",
            "Epoch 3/10\n",
            "1088/1088 [==============================] - 41s 38ms/step - loss: 0.0994 - accuracy: 0.9757 - val_loss: 0.5423 - val_accuracy: 0.8819\n",
            "Epoch 4/10\n",
            "1088/1088 [==============================] - 42s 38ms/step - loss: 0.0702 - accuracy: 0.9824 - val_loss: 0.5794 - val_accuracy: 0.8635\n",
            "Epoch 5/10\n",
            "1088/1088 [==============================] - 41s 37ms/step - loss: 0.0533 - accuracy: 0.9859 - val_loss: 0.6508 - val_accuracy: 0.8692\n",
            "Epoch 6/10\n",
            "1088/1088 [==============================] - 41s 37ms/step - loss: 0.0453 - accuracy: 0.9879 - val_loss: 0.6408 - val_accuracy: 0.8746\n",
            "Epoch 7/10\n",
            "1088/1088 [==============================] - 41s 37ms/step - loss: 0.0296 - accuracy: 0.9920 - val_loss: 0.7024 - val_accuracy: 0.8837\n",
            "Epoch 8/10\n",
            "1088/1088 [==============================] - 40s 37ms/step - loss: 0.0350 - accuracy: 0.9913 - val_loss: 0.6619 - val_accuracy: 0.8864\n",
            "Epoch 9/10\n",
            "1088/1088 [==============================] - 41s 37ms/step - loss: 0.0269 - accuracy: 0.9935 - val_loss: 0.5900 - val_accuracy: 0.9032\n",
            "Epoch 10/10\n",
            "1088/1088 [==============================] - 41s 38ms/step - loss: 0.0224 - accuracy: 0.9943 - val_loss: 0.7468 - val_accuracy: 0.8712\n",
            "Model: \"sequential_9\"\n",
            "_________________________________________________________________\n",
            " Layer (type)                Output Shape              Param #   \n",
            "=================================================================\n",
            " conv2d_9 (Conv2D)           (None, 30, 30, 32)        896       \n",
            "                                                                 \n",
            " max_pooling2d_8 (MaxPooling  (None, 15, 15, 32)       0         \n",
            " 2D)                                                             \n",
            "                                                                 \n",
            " flatten_8 (Flatten)         (None, 7200)              0         \n",
            "                                                                 \n",
            " dense_16 (Dense)            (None, 128)               921728    \n",
            "                                                                 \n",
            " dense_17 (Dense)            (None, 43)                5547      \n",
            "                                                                 \n",
            "=================================================================\n",
            "Total params: 928,171\n",
            "Trainable params: 928,171\n",
            "Non-trainable params: 0\n",
            "_________________________________________________________________\n",
            "\n",
            "\n"
          ]
        }
      ]
    },
    {
      "cell_type": "markdown",
      "source": [
        "### Model scores"
      ],
      "metadata": {
        "id": "THAceo0cM4Si"
      }
    },
    {
      "cell_type": "code",
      "source": [
        "plt.plot(scores[0]['accuracy'], label='train')\n",
        "plt.plot(scores[0]['val_accuracy'], label='val')\n",
        "plt.xticks(np.arange(10))\n",
        "plt.legend()\n",
        "print()\n",
        "print()"
      ],
      "metadata": {
        "id": "CMWyfwZUGGEa",
        "colab": {
          "base_uri": "https://localhost:8080/",
          "height": 300
        },
        "outputId": "1caecc33-471d-420b-e11d-1e6dd7d7a468"
      },
      "execution_count": 240,
      "outputs": [
        {
          "output_type": "stream",
          "name": "stdout",
          "text": [
            "\n",
            "\n"
          ]
        },
        {
          "output_type": "display_data",
          "data": {
            "image/png": "[encoded data removed]",
            "text/plain": [
              "<Figure size 432x288 with 1 Axes>"
            ]
          },
          "metadata": {
            "needs_background": "light"
          }
        }
      ]
    },
    {
      "cell_type": "code",
      "source": [
        "plt.plot(scores[1]['accuracy'], label='train')\n",
        "plt.plot(scores[1]['val_accuracy'], label='val')\n",
        "plt.xticks(np.arange(10))\n",
        "plt.legend()\n",
        "print()\n",
        "print()"
      ],
      "metadata": {
        "colab": {
          "base_uri": "https://localhost:8080/",
          "height": 300
        },
        "id": "2ZN_9XmzSPUO",
        "outputId": "03458c68-49af-4004-a0ea-b7e7587d6c40"
      },
      "execution_count": 241,
      "outputs": [
        {
          "output_type": "stream",
          "name": "stdout",
          "text": [
            "\n",
            "\n"
          ]
        },
        {
          "output_type": "display_data",
          "data": {
            "image/png": "[encoded data removed]",
            "text/plain": [
              "<Figure size 432x288 with 1 Axes>"
            ]
          },
          "metadata": {
            "needs_background": "light"
          }
        }
      ]
    },
    {
      "cell_type": "code",
      "source": [
        "plt.plot(scores[2]['accuracy'], label='train')\n",
        "plt.plot(scores[2]['val_accuracy'], label='val')\n",
        "plt.xticks(np.arange(10))\n",
        "plt.legend()\n",
        "print()\n",
        "print()"
      ],
      "metadata": {
        "colab": {
          "base_uri": "https://localhost:8080/",
          "height": 300
        },
        "id": "Teo-8deESPpH",
        "outputId": "2a62d863-4dab-4cb7-9b62-bbaec1a87957"
      },
      "execution_count": 242,
      "outputs": [
        {
          "output_type": "stream",
          "name": "stdout",
          "text": [
            "\n",
            "\n"
          ]
        },
        {
          "output_type": "display_data",
          "data": {
            "image/png": "[encoded data removed]",
            "text/plain": [
              "<Figure size 432x288 with 1 Axes>"
            ]
          },
          "metadata": {
            "needs_background": "light"
          }
        }
      ]
    },
    {
      "cell_type": "markdown",
      "source": [
        "## Augmentation"
      ],
      "metadata": {
        "id": "A-QIyJS8Hdm3"
      }
    },
    {
      "cell_type": "code",
      "source": [
        "train_aug = ImageDataGenerator(\n",
        "  rescale=1./255,\n",
        "  shear_range=10,\n",
        "  rotation_range=5,\n",
        "  zoom_range=0.1,\n",
        "  #horizontal_flip=True,\n",
        "  #fill_mode='nearest'\n",
        ")\n",
        "\n",
        "train_ds = train_aug.flow_from_directory(\n",
        "    train_dir,\n",
        "    target_size=(32, 32),\n",
        "    class_mode=\"categorical\",\n",
        "    batch_size=20,\n",
        "    shuffle=True\n",
        ")\n",
        "\n",
        "val_gen = ImageDataGenerator(rescale=1./255)\n",
        "\n",
        "val_ds = val_gen.flow_from_directory(\n",
        "    valid_dir,\n",
        "    target_size=(32, 32),\n",
        "    class_mode=\"categorical\",\n",
        "    batch_size=20,\n",
        "    shuffle=True\n",
        ")"
      ],
      "metadata": {
        "colab": {
          "base_uri": "https://localhost:8080/"
        },
        "outputId": "ff047914-5d98-449a-817e-f706789f559b",
        "id": "NkAP0hmkHe_L"
      },
      "execution_count": 243,
      "outputs": [
        {
          "output_type": "stream",
          "name": "stdout",
          "text": [
            "Found 34799 images belonging to 43 classes.\n",
            "Found 4410 images belonging to 43 classes.\n"
          ]
        }
      ]
    },
    {
      "cell_type": "code",
      "source": [
        "model = make_model(0.001)\n",
        "\n",
        "history = model.fit(\n",
        "  train_ds,\n",
        "  steps_per_epoch=100,\n",
        "  epochs=10,\n",
        "  validation_data=val_ds,\n",
        "  validation_steps=50\n",
        ")\n",
        "\n",
        "score = history.history\n",
        "model.summary()"
      ],
      "metadata": {
        "colab": {
          "base_uri": "https://localhost:8080/"
        },
        "id": "DE1SHekNEedp",
        "outputId": "95eb9acb-23c9-40b3-c9c7-54eaadd5c496"
      },
      "execution_count": 244,
      "outputs": [
        {
          "output_type": "stream",
          "name": "stdout",
          "text": [
            "Epoch 1/10\n",
            "100/100 [==============================] - 5s 43ms/step - loss: 3.1633 - accuracy: 0.2090 - val_loss: 2.8239 - val_accuracy: 0.3020\n",
            "Epoch 2/10\n",
            "100/100 [==============================] - 4s 42ms/step - loss: 2.3889 - accuracy: 0.3922 - val_loss: 2.2394 - val_accuracy: 0.4150\n",
            "Epoch 3/10\n",
            "100/100 [==============================] - 4s 42ms/step - loss: 1.8169 - accuracy: 0.5188 - val_loss: 1.8410 - val_accuracy: 0.5010\n",
            "Epoch 4/10\n",
            "100/100 [==============================] - 4s 42ms/step - loss: 1.4651 - accuracy: 0.5845 - val_loss: 1.6297 - val_accuracy: 0.5480\n",
            "Epoch 5/10\n",
            "100/100 [==============================] - 4s 42ms/step - loss: 1.1294 - accuracy: 0.6865 - val_loss: 1.3906 - val_accuracy: 0.6550\n",
            "Epoch 6/10\n",
            "100/100 [==============================] - 4s 41ms/step - loss: 0.9943 - accuracy: 0.7325 - val_loss: 1.2268 - val_accuracy: 0.6430\n",
            "Epoch 7/10\n",
            "100/100 [==============================] - 4s 42ms/step - loss: 0.8580 - accuracy: 0.7644 - val_loss: 1.1109 - val_accuracy: 0.7020\n",
            "Epoch 8/10\n",
            "100/100 [==============================] - 4s 42ms/step - loss: 0.7325 - accuracy: 0.7990 - val_loss: 0.9820 - val_accuracy: 0.7370\n",
            "Epoch 9/10\n",
            "100/100 [==============================] - 4s 41ms/step - loss: 0.6186 - accuracy: 0.8355 - val_loss: 0.8968 - val_accuracy: 0.7300\n",
            "Epoch 10/10\n",
            "100/100 [==============================] - 4s 42ms/step - loss: 0.5789 - accuracy: 0.8400 - val_loss: 0.7765 - val_accuracy: 0.7860\n",
            "Model: \"sequential_10\"\n",
            "_________________________________________________________________\n",
            " Layer (type)                Output Shape              Param #   \n",
            "=================================================================\n",
            " conv2d_10 (Conv2D)          (None, 30, 30, 32)        896       \n",
            "                                                                 \n",
            " max_pooling2d_9 (MaxPooling  (None, 15, 15, 32)       0         \n",
            " 2D)                                                             \n",
            "                                                                 \n",
            " flatten_9 (Flatten)         (None, 7200)              0         \n",
            "                                                                 \n",
            " dense_18 (Dense)            (None, 128)               921728    \n",
            "                                                                 \n",
            " dense_19 (Dense)            (None, 43)                5547      \n",
            "                                                                 \n",
            "=================================================================\n",
            "Total params: 928,171\n",
            "Trainable params: 928,171\n",
            "Non-trainable params: 0\n",
            "_________________________________________________________________\n"
          ]
        }
      ]
    },
    {
      "cell_type": "code",
      "source": [
        "plt.plot(score['accuracy'], label='accuracy')\n",
        "plt.plot(score['val_accuracy'], label='val')\n",
        "plt.plot(score['loss'], label='loss')\n",
        "plt.plot(score['val_loss'], label='val_loss')\n",
        "plt.xticks(np.arange(10))\n",
        "plt.legend()"
      ],
      "metadata": {
        "colab": {
          "base_uri": "https://localhost:8080/",
          "height": 282
        },
        "id": "eI7ZA_NnEexi",
        "outputId": "1cfec6b3-772a-450c-f095-37eb5f258383"
      },
      "execution_count": 245,
      "outputs": [
        {
          "output_type": "execute_result",
          "data": {
            "text/plain": [
              "<matplotlib.legend.Legend at 0x7f4c0f4087d0>"
            ]
          },
          "metadata": {},
          "execution_count": 245
        },
        {
          "output_type": "display_data",
          "data": {
            "image/png": "[encoded data removed]",
            "text/plain": [
              "<Figure size 432x288 with 1 Axes>"
            ]
          },
          "metadata": {
            "needs_background": "light"
          }
        }
      ]
    },
    {
      "cell_type": "code",
      "source": [
        "np.mean(score['accuracy']), np.median(score['accuracy']), np.std(score['loss'])"
      ],
      "metadata": {
        "colab": {
          "base_uri": "https://localhost:8080/"
        },
        "id": "c4LDLTxg9U7t",
        "outputId": "84f2af4c-d79a-47a0-a577-37c4925c937d"
      },
      "execution_count": 246,
      "outputs": [
        {
          "output_type": "execute_result",
          "data": {
            "text/plain": [
              "(0.6362337693572044, 0.7095000147819519, 0.807515269088743)"
            ]
          },
          "metadata": {},
          "execution_count": 246
        }
      ]
    },
    {
      "cell_type": "markdown",
      "source": [
        "## Test model"
      ],
      "metadata": {
        "id": "LY3ZgjokZ_St"
      }
    },
    {
      "cell_type": "code",
      "source": [
        "os.listdir(BASE_PATH + 'test/speed_limit_50kmh')[:10]"
      ],
      "metadata": {
        "colab": {
          "base_uri": "https://localhost:8080/"
        },
        "id": "__DygG8m0Rxr",
        "outputId": "51f70e75-5941-45ac-eba7-701a193aafd7"
      },
      "execution_count": 247,
      "outputs": [
        {
          "output_type": "execute_result",
          "data": {
            "text/plain": [
              "['img_2103.png',\n",
              " 'img_7974.png',\n",
              " 'img_6654.png',\n",
              " 'img_12404.png',\n",
              " 'img_393.png',\n",
              " 'img_4506.png',\n",
              " 'img_7936.png',\n",
              " 'img_1247.png',\n",
              " 'img_8369.png',\n",
              " 'img_3366.png']"
            ]
          },
          "metadata": {},
          "execution_count": 247
        }
      ]
    },
    {
      "cell_type": "code",
      "source": [
        "from flask import request as request_f\n",
        "from flask import jsonify\n",
        "from urllib import request\n",
        "from io import BytesIO"
      ],
      "metadata": {
        "id": "ZITr5MKJ2mKS"
      },
      "execution_count": 248,
      "outputs": []
    },
    {
      "cell_type": "code",
      "source": [
        "def load_img_from_url(url):\n",
        "    print(url)\n",
        "    with request.urlopen(url) as url:\n",
        "        f = BytesIO(url.read())\n",
        "\n",
        "    img = Image.open(f)\n",
        "    return img\n",
        "\n",
        "def prepare_image(img, target_size):\n",
        "    if img.mode != 'RGB':\n",
        "        img = img.convert('RGB')\n",
        "    img = img.resize(target_size, Image.NEAREST)\n",
        "    return img"
      ],
      "metadata": {
        "id": "pS8_eqgT2V9X"
      },
      "execution_count": 249,
      "outputs": []
    },
    {
      "cell_type": "code",
      "source": [
        "def predict(url):\n",
        "  img = load_img_from_url(url)\n",
        "  img = prepare_image(img, target_size=(32, 32))\n",
        "\n",
        "  x = np.array(img)\n",
        "  X = np.array([x])\n",
        "  X = prepare_input(X)\n",
        "\n",
        "  preds = model.predict(X).round(3)\n",
        "\n",
        "  float_predictions = preds[0].tolist()\n",
        "\n",
        "  return dict(zip(categories, float_predictions))"
      ],
      "metadata": {
        "id": "XavwZ65E2XW4"
      },
      "execution_count": 250,
      "outputs": []
    },
    {
      "cell_type": "code",
      "source": [
        "predict('https://upload.wikimedia.org/wikipedia/commons/thumb/c/c8/UK_traffic_sign_601.1.svg/2048px-UK_traffic_sign_601.1.svg.png')"
      ],
      "metadata": {
        "colab": {
          "base_uri": "https://localhost:8080/"
        },
        "id": "Lgo-fetV2c_M",
        "outputId": "d16f8f5f-6dc3-43f4-f0ac-0c31826b44e8"
      },
      "execution_count": 251,
      "outputs": [
        {
          "output_type": "stream",
          "name": "stdout",
          "text": [
            "https://upload.wikimedia.org/wikipedia/commons/thumb/c/c8/UK_traffic_sign_601.1.svg/2048px-UK_traffic_sign_601.1.svg.png\n"
          ]
        },
        {
          "output_type": "execute_result",
          "data": {
            "text/plain": [
              "{'ahead_only': 0.0,\n",
              " 'beware_of_icesnow': 0.0,\n",
              " 'bicycles_crossing': 0.0,\n",
              " 'bumpy_road': 0.0,\n",
              " 'children_crossing': 0.0,\n",
              " 'dangerous_curve_to_the_left': 0.0,\n",
              " 'dangerous_curve_to_the_right': 0.0,\n",
              " 'double_curve': 0.0,\n",
              " 'end_of_all_speed_and_passing_limits': 0.0,\n",
              " 'end_of_no_passing': 0.0,\n",
              " 'end_of_no_passing_by_vehicles_over_3.5_metric_tons': 0.0,\n",
              " 'end_of_speed_limit_80kmh': 0.0,\n",
              " 'general_caution': 0.0,\n",
              " 'go_straight_or_left': 0.0,\n",
              " 'go_straight_or_right': 0.0,\n",
              " 'keep_left': 0.0,\n",
              " 'keep_right': 0.0,\n",
              " 'no_entry': 0.0,\n",
              " 'no_passing': 0.0,\n",
              " 'no_passing_for_vehicles_over_3.5_metric_tons': 0.0,\n",
              " 'no_vehicles': 0.0,\n",
              " 'pedestrians': 0.0,\n",
              " 'priority_road': 0.0,\n",
              " 'right-of-way_at_the_next_intersection': 0.0,\n",
              " 'road_narrows_on_the_right': 0.0,\n",
              " 'road_work': 0.0010000000474974513,\n",
              " 'roundabout_mandatory': 0.0,\n",
              " 'slippery_road': 0.0,\n",
              " 'speed_limit_100kmh': 0.0,\n",
              " 'speed_limit_120kmh': 0.0,\n",
              " 'speed_limit_20kmh': 0.0,\n",
              " 'speed_limit_30kmh': 0.0,\n",
              " 'speed_limit_50kmh': 0.0,\n",
              " 'speed_limit_60kmh': 0.0,\n",
              " 'speed_limit_70kmh': 0.0,\n",
              " 'speed_limit_80kmh': 0.0,\n",
              " 'stop': 0.9990000128746033,\n",
              " 'traffic_signals': 0.0,\n",
              " 'turn_left_ahead': 0.0,\n",
              " 'turn_right_ahead': 0.0,\n",
              " 'vehicles_over_3.5_metric_tons_prohibited': 0.0,\n",
              " 'wild_animals_crossing': 0.0,\n",
              " 'yield': 0.0}"
            ]
          },
          "metadata": {},
          "execution_count": 251
        }
      ]
    },
    {
      "cell_type": "markdown",
      "source": [
        "## Save model"
      ],
      "metadata": {
        "id": "CQgGQ6-4JWGE"
      }
    },
    {
      "cell_type": "code",
      "source": [
        "from google.colab import files"
      ],
      "metadata": {
        "id": "9Hlo5XYtKlRT"
      },
      "execution_count": 252,
      "outputs": []
    },
    {
      "cell_type": "code",
      "source": [
        "model_file = BASE_PATH + 'traffic-sign-model.h5'"
      ],
      "metadata": {
        "id": "8lIHCRaCJXBe"
      },
      "execution_count": 253,
      "outputs": []
    },
    {
      "cell_type": "code",
      "source": [
        "model.save(model_file)"
      ],
      "metadata": {
        "id": "N3jRmbB4F3Vj"
      },
      "execution_count": 254,
      "outputs": []
    },
    {
      "cell_type": "code",
      "source": [
        "files.download(model_file)"
      ],
      "metadata": {
        "colab": {
          "base_uri": "https://localhost:8080/",
          "height": 17
        },
        "id": "59IteJ2vH2nD",
        "outputId": "fa84adab-5499-4761-c3ac-1ce1667f390a"
      },
      "execution_count": 255,
      "outputs": [
        {
          "output_type": "display_data",
          "data": {
            "application/javascript": [
              "\n",
              "    async function download(id, filename, size) {\n",
              "      if (!google.colab.kernel.accessAllowed) {\n",
              "        return;\n",
              "      }\n",
              "      const div = document.createElement('div');\n",
              "      const label = document.createElement('label');\n",
              "      label.textContent = `Downloading \"${filename}\": `;\n",
              "      div.appendChild(label);\n",
              "      const progress = document.createElement('progress');\n",
              "      progress.max = size;\n",
              "      div.appendChild(progress);\n",
              "      document.body.appendChild(div);\n",
              "\n",
              "      const buffers = [];\n",
              "      let downloaded = 0;\n",
              "\n",
              "      const channel = await google.colab.kernel.comms.open(id);\n",
              "      // Send a message to notify the kernel that we're ready.\n",
              "      channel.send({})\n",
              "\n",
              "      for await (const message of channel.messages) {\n",
              "        // Send a message to notify the kernel that we're ready.\n",
              "        channel.send({})\n",
              "        if (message.buffers) {\n",
              "          for (const buffer of message.buffers) {\n",
              "            buffers.push(buffer);\n",
              "            downloaded += buffer.byteLength;\n",
              "            progress.value = downloaded;\n",
              "          }\n",
              "        }\n",
              "      }\n",
              "      const blob = new Blob(buffers, {type: 'application/binary'});\n",
              "      const a = document.createElement('a');\n",
              "      a.href = window.URL.createObjectURL(blob);\n",
              "      a.download = filename;\n",
              "      div.appendChild(a);\n",
              "      a.click();\n",
              "      div.remove();\n",
              "    }\n",
              "  "
            ],
            "text/plain": [
              "<IPython.core.display.Javascript object>"
            ]
          },
          "metadata": {}
        },
        {
          "output_type": "display_data",
          "data": {
            "application/javascript": [
              "download(\"download_a6ec5905-7f16-4936-ae82-cd170e3c8a11\", \"traffic-sign-model.h5\", 11172504)"
            ],
            "text/plain": [
              "<IPython.core.display.Javascript object>"
            ]
          },
          "metadata": {}
        }
      ]
    }
  ]
}